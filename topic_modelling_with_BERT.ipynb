{
 "cells": [
  {
   "cell_type": "code",
   "execution_count": 3,
   "id": "df850425-ef47-49e0-835a-09b8a51fa66e",
   "metadata": {},
   "outputs": [],
   "source": [
    "import numpy as np\n",
    "import pandas as pd\n",
    "import hdbscan\n",
    "from bertopic import BERTopic\n",
    "import umap\n",
    "import matplotlib.pyplot as plt\n",
    "from sklearn import metrics\n",
    "from sklearn.cluster import OPTICS\n",
    "from sentence_transformers import SentenceTransformer"
   ]
  },
  {
   "cell_type": "code",
   "execution_count": 4,
   "id": "8574949c-6a2e-4cab-b279-4fe140e2a63d",
   "metadata": {},
   "outputs": [],
   "source": [
    "df = pd.read_csv('shops_public_products.csv')"
   ]
  },
  {
   "cell_type": "code",
   "execution_count": 51,
   "id": "7ecf974a-11f7-4ac4-9d48-42d6372592d3",
   "metadata": {},
   "outputs": [
    {
     "data": {
      "text/html": [
       "<div>\n",
       "<style scoped>\n",
       "    .dataframe tbody tr th:only-of-type {\n",
       "        vertical-align: middle;\n",
       "    }\n",
       "\n",
       "    .dataframe tbody tr th {\n",
       "        vertical-align: top;\n",
       "    }\n",
       "\n",
       "    .dataframe thead th {\n",
       "        text-align: right;\n",
       "    }\n",
       "</style>\n",
       "<table border=\"1\" class=\"dataframe\">\n",
       "  <thead>\n",
       "    <tr style=\"text-align: right;\">\n",
       "      <th></th>\n",
       "      <th>product_no</th>\n",
       "      <th>brand</th>\n",
       "      <th>category</th>\n",
       "      <th>link</th>\n",
       "      <th>price</th>\n",
       "      <th>description</th>\n",
       "      <th>seller_id</th>\n",
       "      <th>name</th>\n",
       "      <th>image_link</th>\n",
       "      <th>full_info</th>\n",
       "    </tr>\n",
       "  </thead>\n",
       "  <tbody>\n",
       "    <tr>\n",
       "      <th>0</th>\n",
       "      <td>1</td>\n",
       "      <td>Fifine</td>\n",
       "      <td>Для стрима</td>\n",
       "      <td>https://www.ozon.ru/product/mikrofon-igrovoy-d...</td>\n",
       "      <td>4990</td>\n",
       "      <td>Тип : Микрофон\\nТехнология микрофона : Конденс...</td>\n",
       "      <td>81744</td>\n",
       "      <td>Микрофон игровой (для стриминга) Fifine AmpliG...</td>\n",
       "      <td>https://cdn1.ozone.ru/s3/multimedia-v/61687660...</td>\n",
       "      <td>Микрофон игровой (для стриминга) Fifine AmpliG...</td>\n",
       "    </tr>\n",
       "    <tr>\n",
       "      <th>1</th>\n",
       "      <td>2</td>\n",
       "      <td>NaN</td>\n",
       "      <td>Чехлы для плееров и аудиосистем</td>\n",
       "      <td>https://www.ozon.ru/product/sumka-keys-dlya-hr...</td>\n",
       "      <td>2023</td>\n",
       "      <td>Тип : Чехол для портативной АС\\nМатериал : Тек...</td>\n",
       "      <td>193106</td>\n",
       "      <td>Сумка (кейс) для хранения портативной (блютуз)...</td>\n",
       "      <td>https://cdn1.ozone.ru/s3/multimedia-s/62246952...</td>\n",
       "      <td>Сумка (кейс) для хранения портативной (блютуз)...</td>\n",
       "    </tr>\n",
       "    <tr>\n",
       "      <th>2</th>\n",
       "      <td>3</td>\n",
       "      <td>zKissfashion</td>\n",
       "      <td>Микрофонные стойки</td>\n",
       "      <td>https://www.ozon.ru/product/stoyka-dlya-mikrof...</td>\n",
       "      <td>644</td>\n",
       "      <td>Тип : Микрофонная стойка\\nПартномер : 111\\nЦве...</td>\n",
       "      <td>369734</td>\n",
       "      <td>Стойка для микрофона/Держатель для микрофона/П...</td>\n",
       "      <td>https://cdn1.ozone.ru/s3/multimedia-s/62915439...</td>\n",
       "      <td>Стойка для микрофона/Держатель для микрофона/П...</td>\n",
       "    </tr>\n",
       "  </tbody>\n",
       "</table>\n",
       "</div>"
      ],
      "text/plain": [
       "   product_no         brand                         category  \\\n",
       "0           1        Fifine                       Для стрима   \n",
       "1           2           NaN  Чехлы для плееров и аудиосистем   \n",
       "2           3  zKissfashion               Микрофонные стойки   \n",
       "\n",
       "                                                link  price  \\\n",
       "0  https://www.ozon.ru/product/mikrofon-igrovoy-d...   4990   \n",
       "1  https://www.ozon.ru/product/sumka-keys-dlya-hr...   2023   \n",
       "2  https://www.ozon.ru/product/stoyka-dlya-mikrof...    644   \n",
       "\n",
       "                                         description  seller_id  \\\n",
       "0  Тип : Микрофон\\nТехнология микрофона : Конденс...      81744   \n",
       "1  Тип : Чехол для портативной АС\\nМатериал : Тек...     193106   \n",
       "2  Тип : Микрофонная стойка\\nПартномер : 111\\nЦве...     369734   \n",
       "\n",
       "                                                name  \\\n",
       "0  Микрофон игровой (для стриминга) Fifine AmpliG...   \n",
       "1  Сумка (кейс) для хранения портативной (блютуз)...   \n",
       "2  Стойка для микрофона/Держатель для микрофона/П...   \n",
       "\n",
       "                                          image_link  \\\n",
       "0  https://cdn1.ozone.ru/s3/multimedia-v/61687660...   \n",
       "1  https://cdn1.ozone.ru/s3/multimedia-s/62246952...   \n",
       "2  https://cdn1.ozone.ru/s3/multimedia-s/62915439...   \n",
       "\n",
       "                                           full_info  \n",
       "0  Микрофон игровой (для стриминга) Fifine AmpliG...  \n",
       "1  Сумка (кейс) для хранения портативной (блютуз)...  \n",
       "2  Стойка для микрофона/Держатель для микрофона/П...  "
      ]
     },
     "execution_count": 51,
     "metadata": {},
     "output_type": "execute_result"
    }
   ],
   "source": [
    "df.head(3)"
   ]
  },
  {
   "cell_type": "code",
   "execution_count": 8,
   "id": "e54d94cc-7067-4c69-8f14-06ae084fdce8",
   "metadata": {},
   "outputs": [],
   "source": [
    "df['full_info'] = df['name'] + '. ' + df['description']"
   ]
  },
  {
   "cell_type": "code",
   "execution_count": 9,
   "id": "1e4546ab-d687-4145-b9cf-df8861c1d176",
   "metadata": {},
   "outputs": [],
   "source": [
    "def transform_description(x):\n",
    "    x = x.replace('\\n', '. ')\n",
    "    return x"
   ]
  },
  {
   "cell_type": "code",
   "execution_count": 10,
   "id": "6ceaba2d-fa02-407c-a9fe-906d43c84610",
   "metadata": {},
   "outputs": [],
   "source": [
    "df['full_info'] = df.full_info.astype(str).apply(transform_description)"
   ]
  },
  {
   "cell_type": "code",
   "execution_count": 11,
   "id": "41e7a1ea-7de4-449e-b782-20985fe42ab3",
   "metadata": {},
   "outputs": [
    {
     "data": {
      "text/plain": [
       "0       Микрофон игровой (для стриминга) Fifine AmpliG...\n",
       "1       Сумка (кейс) для хранения портативной (блютуз)...\n",
       "2       Стойка для микрофона/Держатель для микрофона/П...\n",
       "3       Микрофон петличный OutinLight петличный беспро...\n",
       "4       Системный блок Haff Gaming Middle New Balance ...\n",
       "                              ...                        \n",
       "3467    Амбушюры из искусственной кожи пенопластовые н...\n",
       "3468    Антенна для рации автомобильная  OPTIM SUPER 9...\n",
       "3469    Кронштейн Holder LSS-6001 черный для акустичес...\n",
       "3470    Антенна Baofeng магнитная авто 14,5 см. Тип : ...\n",
       "3471    Антенна для рации Diamond SRH805S sma-f. Тип :...\n",
       "Name: full_info, Length: 3472, dtype: object"
      ]
     },
     "execution_count": 11,
     "metadata": {},
     "output_type": "execute_result"
    }
   ],
   "source": [
    "df.full_info"
   ]
  },
  {
   "cell_type": "code",
   "execution_count": 14,
   "id": "650dd7fb-0c1b-4a56-a3ad-65ba06c5ec3f",
   "metadata": {},
   "outputs": [
    {
     "data": {
      "application/vnd.jupyter.widget-view+json": {
       "model_id": "d1bcc88893cf4b81b91e60d148d86d0f",
       "version_major": 2,
       "version_minor": 0
      },
      "text/plain": [
       "Downloading:   0%|          | 0.00/690 [00:00<?, ?B/s]"
      ]
     },
     "metadata": {},
     "output_type": "display_data"
    },
    {
     "data": {
      "application/vnd.jupyter.widget-view+json": {
       "model_id": "cc350f6236404754ab09177cfa346916",
       "version_major": 2,
       "version_minor": 0
      },
      "text/plain": [
       "Downloading:   0%|          | 0.00/190 [00:00<?, ?B/s]"
      ]
     },
     "metadata": {},
     "output_type": "display_data"
    },
    {
     "data": {
      "application/vnd.jupyter.widget-view+json": {
       "model_id": "3338457f2a934171a19b3c2938712a37",
       "version_major": 2,
       "version_minor": 0
      },
      "text/plain": [
       "Downloading:   0%|          | 0.00/114 [00:00<?, ?B/s]"
      ]
     },
     "metadata": {},
     "output_type": "display_data"
    },
    {
     "data": {
      "application/vnd.jupyter.widget-view+json": {
       "model_id": "8d24c40c7858441ab06eefcbf2a19d1b",
       "version_major": 2,
       "version_minor": 0
      },
      "text/plain": [
       "Downloading:   0%|          | 0.00/1.58M [00:00<?, ?B/s]"
      ]
     },
     "metadata": {},
     "output_type": "display_data"
    },
    {
     "data": {
      "application/vnd.jupyter.widget-view+json": {
       "model_id": "01d35aefde024e3489c0e0a172a8c361",
       "version_major": 2,
       "version_minor": 0
      },
      "text/plain": [
       "Downloading:   0%|          | 0.00/2.38k [00:00<?, ?B/s]"
      ]
     },
     "metadata": {},
     "output_type": "display_data"
    },
    {
     "data": {
      "application/vnd.jupyter.widget-view+json": {
       "model_id": "8927ed6869f64e0ea4130f8a0298b416",
       "version_major": 2,
       "version_minor": 0
      },
      "text/plain": [
       "Downloading:   0%|          | 0.00/556 [00:00<?, ?B/s]"
      ]
     },
     "metadata": {},
     "output_type": "display_data"
    },
    {
     "data": {
      "application/vnd.jupyter.widget-view+json": {
       "model_id": "794d478f706f495ab6374c438018124e",
       "version_major": 2,
       "version_minor": 0
      },
      "text/plain": [
       "Downloading:   0%|          | 0.00/122 [00:00<?, ?B/s]"
      ]
     },
     "metadata": {},
     "output_type": "display_data"
    },
    {
     "data": {
      "application/vnd.jupyter.widget-view+json": {
       "model_id": "295a34d88cab4a7bb63c8232bfcf5747",
       "version_major": 2,
       "version_minor": 0
      },
      "text/plain": [
       "Downloading:   0%|          | 0.00/539M [00:00<?, ?B/s]"
      ]
     },
     "metadata": {},
     "output_type": "display_data"
    },
    {
     "data": {
      "application/vnd.jupyter.widget-view+json": {
       "model_id": "654b0adf9de3493c92b5506cea0612fb",
       "version_major": 2,
       "version_minor": 0
      },
      "text/plain": [
       "Downloading:   0%|          | 0.00/53.0 [00:00<?, ?B/s]"
      ]
     },
     "metadata": {},
     "output_type": "display_data"
    },
    {
     "data": {
      "application/vnd.jupyter.widget-view+json": {
       "model_id": "93e593836b2a4165981076fe9d6195c1",
       "version_major": 2,
       "version_minor": 0
      },
      "text/plain": [
       "Downloading:   0%|          | 0.00/112 [00:00<?, ?B/s]"
      ]
     },
     "metadata": {},
     "output_type": "display_data"
    },
    {
     "data": {
      "application/vnd.jupyter.widget-view+json": {
       "model_id": "ea6ee08f4c404e9fb0ab8321bc8560f8",
       "version_major": 2,
       "version_minor": 0
      },
      "text/plain": [
       "Downloading:   0%|          | 0.00/1.96M [00:00<?, ?B/s]"
      ]
     },
     "metadata": {},
     "output_type": "display_data"
    },
    {
     "data": {
      "application/vnd.jupyter.widget-view+json": {
       "model_id": "7e1b4be79c274b80b04e3015b7514125",
       "version_major": 2,
       "version_minor": 0
      },
      "text/plain": [
       "Downloading:   0%|          | 0.00/452 [00:00<?, ?B/s]"
      ]
     },
     "metadata": {},
     "output_type": "display_data"
    },
    {
     "data": {
      "application/vnd.jupyter.widget-view+json": {
       "model_id": "c529f3cf53f6440ca0e47feaf26f03ec",
       "version_major": 2,
       "version_minor": 0
      },
      "text/plain": [
       "Downloading:   0%|          | 0.00/996k [00:00<?, ?B/s]"
      ]
     },
     "metadata": {},
     "output_type": "display_data"
    },
    {
     "data": {
      "application/vnd.jupyter.widget-view+json": {
       "model_id": "ef9b5e3999ec47d98c198e48130e291e",
       "version_major": 2,
       "version_minor": 0
      },
      "text/plain": [
       "Downloading:   0%|          | 0.00/341 [00:00<?, ?B/s]"
      ]
     },
     "metadata": {},
     "output_type": "display_data"
    }
   ],
   "source": [
    "model = SentenceTransformer('distiluse-base-multilingual-cased-v1')"
   ]
  },
  {
   "cell_type": "code",
   "execution_count": 15,
   "id": "55d3bb0b-121b-4285-85fe-388b5ab22fd8",
   "metadata": {},
   "outputs": [
    {
     "data": {
      "application/vnd.jupyter.widget-view+json": {
       "model_id": "bade8eb190b944ad8ead72b5ec220222",
       "version_major": 2,
       "version_minor": 0
      },
      "text/plain": [
       "Batches:   0%|          | 0/109 [00:00<?, ?it/s]"
      ]
     },
     "metadata": {},
     "output_type": "display_data"
    }
   ],
   "source": [
    "embeddings = model.encode(df.full_info, show_progress_bar=True)"
   ]
  },
  {
   "cell_type": "code",
   "execution_count": 17,
   "id": "9b0e0a16-480b-4dc5-b61a-ff179328dda2",
   "metadata": {},
   "outputs": [],
   "source": [
    "umap_embeddings = umap.UMAP(n_neighbors=15, \n",
    "                            n_components=5, \n",
    "                            metric='cosine').fit_transform(embeddings)"
   ]
  },
  {
   "cell_type": "markdown",
   "id": "3a837e48-9203-4df5-87e2-d70783302a6d",
   "metadata": {},
   "source": [
    "#### HDBSCAN clustering"
   ]
  },
  {
   "cell_type": "code",
   "execution_count": 67,
   "id": "6bc4b4a4-717a-4d2a-a89b-c6e27db22004",
   "metadata": {},
   "outputs": [],
   "source": [
    "clustering_hdbscan = hdbscan.HDBSCAN(min_cluster_size=2,\n",
    "                          metric='euclidean',                      \n",
    "                          cluster_selection_method='eom').fit(umap_embeddings)"
   ]
  },
  {
   "cell_type": "code",
   "execution_count": 68,
   "id": "b55c1263-92df-4ca7-a85d-6304abfa625f",
   "metadata": {},
   "outputs": [
    {
     "data": {
      "text/plain": [
       "<matplotlib.colorbar.Colorbar at 0x7fae5f035640>"
      ]
     },
     "execution_count": 68,
     "metadata": {},
     "output_type": "execute_result"
    },
    {
     "data": {
      "image/png": "[encoded data removed]",
      "text/plain": [
       "<Figure size 1440x720 with 2 Axes>"
      ]
     },
     "metadata": {
      "needs_background": "light"
     },
     "output_type": "display_data"
    }
   ],
   "source": [
    "# Prepare data\n",
    "umap_data = umap.UMAP(n_neighbors=15, n_components=2, min_dist=0.0, metric='cosine').fit_transform(embeddings)\n",
    "result = pd.DataFrame(umap_data, columns=['x', 'y'])\n",
    "result['labels'] = clustering_hdbscan.labels_\n",
    "\n",
    "# Visualize clusters\n",
    "fig, ax = plt.subplots(figsize=(20, 10))\n",
    "outliers = result.loc[result.labels == -1, :]\n",
    "clustered = result.loc[result.labels != -1, :]\n",
    "plt.scatter(outliers.x, outliers.y, color='#BDBDBD', s=0.05)\n",
    "plt.scatter(clustered.x, clustered.y, c=clustered.labels, s=0.05, cmap='hsv_r')\n",
    "plt.colorbar()"
   ]
  },
  {
   "cell_type": "markdown",
   "id": "b0a8fd9b-294a-4219-b663-ea4c34290d75",
   "metadata": {},
   "source": [
    "Количество некластеризованных объектов - продукты, не имеющие аналогов"
   ]
  },
  {
   "cell_type": "code",
   "execution_count": 33,
   "id": "942604a1-f712-4047-be1b-f0bc5598cbfd",
   "metadata": {},
   "outputs": [
    {
     "data": {
      "text/plain": [
       "540"
      ]
     },
     "execution_count": 33,
     "metadata": {},
     "output_type": "execute_result"
    }
   ],
   "source": [
    "len(outliers)"
   ]
  },
  {
   "cell_type": "code",
   "execution_count": 73,
   "id": "00bf200f-16aa-428d-aa6b-09ff5e72e1b5",
   "metadata": {
    "scrolled": true,
    "tags": []
   },
   "outputs": [
    {
     "data": {
      "text/html": [
       "<div>\n",
       "<style scoped>\n",
       "    .dataframe tbody tr th:only-of-type {\n",
       "        vertical-align: middle;\n",
       "    }\n",
       "\n",
       "    .dataframe tbody tr th {\n",
       "        vertical-align: top;\n",
       "    }\n",
       "\n",
       "    .dataframe thead th {\n",
       "        text-align: right;\n",
       "    }\n",
       "</style>\n",
       "<table border=\"1\" class=\"dataframe\">\n",
       "  <thead>\n",
       "    <tr style=\"text-align: right;\">\n",
       "      <th></th>\n",
       "      <th>x</th>\n",
       "      <th>y</th>\n",
       "    </tr>\n",
       "    <tr>\n",
       "      <th>labels</th>\n",
       "      <th></th>\n",
       "      <th></th>\n",
       "    </tr>\n",
       "  </thead>\n",
       "  <tbody>\n",
       "    <tr>\n",
       "      <th>1</th>\n",
       "      <td>78</td>\n",
       "      <td>78</td>\n",
       "    </tr>\n",
       "    <tr>\n",
       "      <th>0</th>\n",
       "      <td>28</td>\n",
       "      <td>28</td>\n",
       "    </tr>\n",
       "    <tr>\n",
       "      <th>287</th>\n",
       "      <td>26</td>\n",
       "      <td>26</td>\n",
       "    </tr>\n",
       "    <tr>\n",
       "      <th>42</th>\n",
       "      <td>23</td>\n",
       "      <td>23</td>\n",
       "    </tr>\n",
       "    <tr>\n",
       "      <th>74</th>\n",
       "      <td>22</td>\n",
       "      <td>22</td>\n",
       "    </tr>\n",
       "  </tbody>\n",
       "</table>\n",
       "</div>"
      ],
      "text/plain": [
       "         x   y\n",
       "labels        \n",
       "1       78  78\n",
       "0       28  28\n",
       "287     26  26\n",
       "42      23  23\n",
       "74      22  22"
      ]
     },
     "execution_count": 73,
     "metadata": {},
     "output_type": "execute_result"
    }
   ],
   "source": [
    "clustered.groupby('labels').count().sort_values(by='x', ascending=False).head(5)"
   ]
  },
  {
   "cell_type": "code",
   "execution_count": 36,
   "id": "60ef934d-3be8-45bf-9068-312d2c42ed42",
   "metadata": {},
   "outputs": [],
   "source": [
    "result_df = pd.merge(df, result, left_index=True, right_index=True)"
   ]
  },
  {
   "cell_type": "code",
   "execution_count": 69,
   "id": "d680aaef-1171-480d-9a5c-7c44fe81e363",
   "metadata": {},
   "outputs": [
    {
     "name": "stdout",
     "output_type": "stream",
     "text": [
      "Silhouette_score: \n",
      "0.48077583\n"
     ]
    }
   ],
   "source": [
    "silhouette_score = metrics.silhouette_score(umap_embeddings, clustering_hdbscan.labels_, metric='euclidean')\n",
    "print (\"Silhouette_score: \")\n",
    "print (silhouette_score)"
   ]
  },
  {
   "cell_type": "markdown",
   "id": "ae3fa571-e944-46af-9946-10f97749a60a",
   "metadata": {},
   "source": [
    "#### OPTICS algorithm"
   ]
  },
  {
   "cell_type": "code",
   "execution_count": 60,
   "id": "77cff616-18ab-4e99-89ad-306d13be82b3",
   "metadata": {},
   "outputs": [],
   "source": [
    "clustering_optics = OPTICS(min_samples=2).fit(umap_embeddings)"
   ]
  },
  {
   "cell_type": "code",
   "execution_count": 61,
   "id": "2a2c4519-4a77-4306-8b25-ba6f896ef62e",
   "metadata": {},
   "outputs": [
    {
     "name": "stdout",
     "output_type": "stream",
     "text": [
      "Silhouette_score: \n",
      "0.33922002\n"
     ]
    }
   ],
   "source": [
    "silhouette_score = metrics.silhouette_score(umap_embeddings, clustering_optics.labels_, metric='euclidean')\n",
    "print (\"Silhouette_score: \")\n",
    "print (silhouette_score)"
   ]
  },
  {
   "cell_type": "code",
   "execution_count": 62,
   "id": "affab4a0-cf50-4163-9d9d-9c98c01341b0",
   "metadata": {},
   "outputs": [
    {
     "data": {
      "text/plain": [
       "<matplotlib.colorbar.Colorbar at 0x7fae5e734a90>"
      ]
     },
     "execution_count": 62,
     "metadata": {},
     "output_type": "execute_result"
    },
    {
     "data": {
      "image/png": "[encoded data removed]",
      "text/plain": [
       "<Figure size 1440x720 with 2 Axes>"
      ]
     },
     "metadata": {
      "needs_background": "light"
     },
     "output_type": "display_data"
    }
   ],
   "source": [
    "# Prepare data\n",
    "umap_data = umap.UMAP(n_neighbors=15, n_components=2, min_dist=0.0, metric='cosine').fit_transform(embeddings)\n",
    "result = pd.DataFrame(umap_data, columns=['x', 'y'])\n",
    "result['labels'] = clustering_optics.labels_\n",
    "\n",
    "# Visualize clusters\n",
    "fig, ax = plt.subplots(figsize=(20, 10))\n",
    "outliers = result.loc[result.labels == -1, :]\n",
    "clustered = result.loc[result.labels != -1, :]\n",
    "plt.scatter(outliers.x, outliers.y, color='#BDBDBD', s=0.05)\n",
    "plt.scatter(clustered.x, clustered.y, c=clustered.labels, s=0.05, cmap='hsv_r')\n",
    "plt.colorbar()"
   ]
  },
  {
   "cell_type": "code",
   "execution_count": null,
   "id": "3a74c798-a9b7-4c83-88fa-3ececf3a16ff",
   "metadata": {},
   "outputs": [],
   "source": []
  },
  {
   "cell_type": "code",
   "execution_count": null,
   "id": "5260c8fd-2452-4974-a0b0-49729480e553",
   "metadata": {},
   "outputs": [],
   "source": []
  }
 ],
 "metadata": {
  "kernelspec": {
   "display_name": "Python 3 (ipykernel)",
   "language": "python",
   "name": "python3"
  },
  "language_info": {
   "codemirror_mode": {
    "name": "ipython",
    "version": 3
   },
   "file_extension": ".py",
   "mimetype": "text/x-python",
   "name": "python",
   "nbconvert_exporter": "python",
   "pygments_lexer": "ipython3",
   "version": "3.9.7"
  }
 },
 "nbformat": 4,
 "nbformat_minor": 5
}
